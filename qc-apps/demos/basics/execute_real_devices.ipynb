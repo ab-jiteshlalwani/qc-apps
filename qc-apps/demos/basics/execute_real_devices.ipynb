{
 "cells": [
  {
   "cell_type": "markdown",
   "id": "a37cc762",
   "metadata": {},
   "source": [
    "#### Following is the demo of how to execute circuits on IBM, Rigetti and IonQ real quantum devices using quantumcat.\n",
    "For more information on quantumcat, Please visit - https://quantumcat.io/ \\\n",
    "For any support, Please contact us at: entangled@artficialbrain.us"
   ]
  },
  {
   "cell_type": "code",
   "execution_count": null,
   "id": "60459653",
   "metadata": {},
   "outputs": [],
   "source": [
    "# Run only the first time to install quantumcat library\"\n",
    "# !pip install quantumcat"
   ]
  },
  {
   "cell_type": "code",
   "execution_count": 2,
   "id": "761a6219",
   "metadata": {},
   "outputs": [],
   "source": [
    "from quantumcat.circuit import QCircuit\n",
    "from quantumcat.utils import providers, helper"
   ]
  },
  {
   "cell_type": "code",
   "execution_count": 3,
   "id": "10bef97e",
   "metadata": {},
   "outputs": [],
   "source": [
    "# Circuit creation demo\n",
    "num_of_qubits = 3\n",
    "qc = QCircuit(num_of_qubits)"
   ]
  },
  {
   "cell_type": "code",
   "execution_count": 4,
   "id": "cdd18611",
   "metadata": {},
   "outputs": [
    {
     "name": "stdout",
     "output_type": "stream",
     "text": [
      "q0: ───H───@───M('result')───\n",
      "           │   │\n",
      "q1: ───────X───M─────────────\n"
     ]
    }
   ],
   "source": [
    "# Entanglement demo using high-level entangle()\n",
    "num_of_qubits = 2\n",
    "qc = QCircuit(num_of_qubits)\n",
    "qc.entangle(0, 1)\n",
    "qc.measure_all()\n",
    "qc.draw_circuit(provider=providers.GOOGLE_PROVIDER)"
   ]
  },
  {
   "cell_type": "code",
   "execution_count": 5,
   "id": "1226ce88",
   "metadata": {},
   "outputs": [
    {
     "data": {
      "text/plain": [
       "{'00': 481, '01': 36, '10': 36, '11': 471}"
      ]
     },
     "execution_count": 5,
     "metadata": {},
     "output_type": "execute_result"
    }
   ],
   "source": [
    "# Execute circuit on IBM's real quantum device \n",
    "qc.execute(provider=providers.IBM_PROVIDER, \n",
    "           api='Copy api key from the IBM dashboard', \n",
    "           device='Provide device name such as ibmq_belem',\n",
    "           repetitions=1024)"
   ]
  },
  {
   "cell_type": "code",
   "execution_count": null,
   "id": "ff210fa9",
   "metadata": {},
   "outputs": [],
   "source": [
    "# Execute circuit on IonQ (via AWS)\n",
    "# We need to setup aws braket using boto3. Follow the below link for more details:\n",
    "# https://docs.aws.amazon.com/braket/latest/developerguide/braket-using-boto3.html\n",
    "ionq_task = qc.execute(provider=providers.AMAZON_PROVIDER, \n",
    "           device='arn:aws:braket:::device/qpu/ionq/ionQdevice',\n",
    "           bucket='Replace with your s3 bucket name',\n",
    "           directory='Replace with your s3 directory name',\n",
    "           repetitions=1024)"
   ]
  },
  {
   "cell_type": "code",
   "execution_count": null,
   "id": "dd8e53c8",
   "metadata": {},
   "outputs": [],
   "source": [
    "ionq_task_id = ionq_task.id"
   ]
  },
  {
   "cell_type": "code",
   "execution_count": null,
   "id": "b892d8f9",
   "metadata": {},
   "outputs": [],
   "source": [
    "# Either check the status on AWS Braket dashboard or run the below command to check the status of the execution\n",
    "print(helper.aws_task(ionq_task_id))"
   ]
  },
  {
   "cell_type": "code",
   "execution_count": null,
   "id": "0ecddf03",
   "metadata": {},
   "outputs": [],
   "source": [
    "# Execute circuit on Rigetti (via AWS)\n",
    "# We need to setup aws braket using boto3. Follow the below link for more details:\n",
    "# https://docs.aws.amazon.com/braket/latest/developerguide/braket-using-boto3.html\n",
    "rigetti_task = qc.execute(provider=providers.AMAZON_PROVIDER, \n",
    "           device='arn:aws:braket:::device/qpu/rigetti/Aspen-9',\n",
    "           bucket='Replace with your s3 bucket name',\n",
    "           directory='Replace with your s3 directory name',\n",
    "           repetitions=1024)"
   ]
  },
  {
   "cell_type": "code",
   "execution_count": null,
   "id": "988c3225",
   "metadata": {},
   "outputs": [],
   "source": [
    "rigetti_task_id = rigetti_task.id"
   ]
  },
  {
   "cell_type": "code",
   "execution_count": 5,
   "id": "0d5e0e14",
   "metadata": {},
   "outputs": [
    {
     "data": {
      "text/plain": [
       "{'GOOGLE': {'00': 508, '11': 516},\n",
       " 'IBM': {'11': 516, '00': 508},\n",
       " 'AMAZON': {'00': 516, '11': 508}}"
      ]
     },
     "execution_count": 5,
     "metadata": {},
     "output_type": "execute_result"
    }
   ],
   "source": [
    "qc.compare_results()"
   ]
  },
  {
   "cell_type": "code",
   "execution_count": null,
   "id": "62fef3d3",
   "metadata": {},
   "outputs": [],
   "source": []
  }
 ],
 "metadata": {
  "kernelspec": {
   "display_name": "Python 3",
   "language": "python",
   "name": "python3"
  },
  "language_info": {
   "codemirror_mode": {
    "name": "ipython",
    "version": 3
   },
   "file_extension": ".py",
   "mimetype": "text/x-python",
   "name": "python",
   "nbconvert_exporter": "python",
   "pygments_lexer": "ipython3",
   "version": "3.8.10"
  }
 },
 "nbformat": 4,
 "nbformat_minor": 5
}
