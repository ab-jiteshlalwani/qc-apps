{
 "cells": [
  {
   "cell_type": "markdown",
   "id": "3d032f29",
   "metadata": {},
   "source": [
    "#### Following is the demo of how to create, draw and execute circuits on multiple simulators using quantumcat.\n",
    "For more information on quantumcat, Please visit - https://quantumcat.io/ \\\n",
    "For any support, Please contact us at: entangled@artficialbrain.us"
   ]
  },
  {
   "cell_type": "code",
   "execution_count": 1,
   "id": "0bfcbd2f",
   "metadata": {},
   "outputs": [],
   "source": [
    "# Run only the first time to install quantumcat library\"\n",
    "# !pip install quantumcat"
   ]
  },
  {
   "cell_type": "code",
   "execution_count": 2,
   "id": "761a6219",
   "metadata": {},
   "outputs": [],
   "source": [
    "from quantumcat.circuit import QCircuit\n",
    "from quantumcat.utils import providers"
   ]
  },
  {
   "cell_type": "code",
   "execution_count": 3,
   "id": "10bef97e",
   "metadata": {},
   "outputs": [],
   "source": [
    "# Circuit creation demo\n",
    "num_of_qubits = 3\n",
    "qc = QCircuit(num_of_qubits)"
   ]
  },
  {
   "cell_type": "code",
   "execution_count": 4,
   "id": "b9496af3",
   "metadata": {},
   "outputs": [],
   "source": [
    "# Superposition demo using H gate:\n",
    "for i in range(num_of_qubits):\n",
    "    qc.h_gate(i)"
   ]
  },
  {
   "cell_type": "code",
   "execution_count": 5,
   "id": "a7ad8922",
   "metadata": {},
   "outputs": [
    {
     "name": "stdout",
     "output_type": "stream",
     "text": [
      "q0: ───H───\n",
      "\n",
      "q1: ───H───\n",
      "\n",
      "q2: ───H───\n"
     ]
    }
   ],
   "source": [
    "# Draw Google Cirq ciruit. QCircuit is converted internally into target circuit based on provider value.\n",
    "qc.draw_circuit(provider=providers.GOOGLE_PROVIDER)"
   ]
  },
  {
   "cell_type": "code",
   "execution_count": 6,
   "id": "8b0f4d85",
   "metadata": {},
   "outputs": [
    {
     "name": "stdout",
     "output_type": "stream",
     "text": [
      "     ┌───┐\n",
      "q_0: ┤ H ├\n",
      "     ├───┤\n",
      "q_1: ┤ H ├\n",
      "     ├───┤\n",
      "q_2: ┤ H ├\n",
      "     └───┘\n"
     ]
    }
   ],
   "source": [
    "# Draw Google Cirq ciruit. QCircuit is converted internally into target circuit based on provider value.\n",
    "qc.draw_circuit(provider=providers.IBM_PROVIDER)"
   ]
  },
  {
   "cell_type": "code",
   "execution_count": 7,
   "id": "991a81b1",
   "metadata": {},
   "outputs": [
    {
     "name": "stdout",
     "output_type": "stream",
     "text": [
      "T  : |0|\n",
      "        \n",
      "q0 : -H-\n",
      "        \n",
      "q1 : -H-\n",
      "        \n",
      "q2 : -H-\n",
      "\n",
      "T  : |0|\n"
     ]
    }
   ],
   "source": [
    "# Draw Google Cirq ciruit. QCircuit is converted internally into target circuit based on provider value.\n",
    "qc.draw_circuit(provider=providers.AMAZON_PROVIDER)"
   ]
  },
  {
   "cell_type": "code",
   "execution_count": 8,
   "id": "3a36a902",
   "metadata": {},
   "outputs": [
    {
     "name": "stdout",
     "output_type": "stream",
     "text": [
      "q0: ───H───\n",
      "\n",
      "q1: ───H───\n",
      "\n",
      "q2: ───H───\n"
     ]
    }
   ],
   "source": [
    "# Superposition demo using high-level superposition()\n",
    "num_of_qubits = 3\n",
    "qc = QCircuit(num_of_qubits)\n",
    "for i in range(num_of_qubits):\n",
    "    qc.superposition(i)\n",
    "qc.draw_circuit(provider=providers.GOOGLE_PROVIDER)"
   ]
  },
  {
   "cell_type": "code",
   "execution_count": 9,
   "id": "79ecb223",
   "metadata": {},
   "outputs": [
    {
     "name": "stdout",
     "output_type": "stream",
     "text": [
      "q0: ───H───@───M('result')───\n",
      "           │   │\n",
      "q1: ───────X───M─────────────\n"
     ]
    }
   ],
   "source": [
    "# Entanglement demo\n",
    "num_of_qubits = 2\n",
    "qc = QCircuit(num_of_qubits)\n",
    "qc.h_gate(0)\n",
    "qc.cx_gate(0, 1)\n",
    "qc.measure_all()\n",
    "qc.draw_circuit(provider=providers.GOOGLE_PROVIDER)"
   ]
  },
  {
   "cell_type": "code",
   "execution_count": 10,
   "id": "cdd18611",
   "metadata": {},
   "outputs": [
    {
     "name": "stdout",
     "output_type": "stream",
     "text": [
      "q0: ───H───@───M('result')───\n",
      "           │   │\n",
      "q1: ───────X───M─────────────\n"
     ]
    }
   ],
   "source": [
    "# Entanglement demo using high-level entangle()\n",
    "num_of_qubits = 2\n",
    "qc = QCircuit(num_of_qubits)\n",
    "qc.entangle(0, 1)\n",
    "qc.measure_all()\n",
    "qc.draw_circuit(provider=providers.GOOGLE_PROVIDER)"
   ]
  },
  {
   "cell_type": "code",
   "execution_count": 11,
   "id": "0b0770dc",
   "metadata": {},
   "outputs": [
    {
     "data": {
      "text/plain": [
       "{'00': 512, '11': 512}"
      ]
     },
     "execution_count": 11,
     "metadata": {},
     "output_type": "execute_result"
    }
   ],
   "source": [
    "# Execute circuit demo on Google Cirq. QCircuit is converted internally into target circuit based on provider value.\n",
    "qc.execute(provider=providers.GOOGLE_PROVIDER, repetitions=1024)"
   ]
  },
  {
   "cell_type": "code",
   "execution_count": 12,
   "id": "1226ce88",
   "metadata": {},
   "outputs": [
    {
     "data": {
      "text/plain": [
       "{'00': 483, '11': 541}"
      ]
     },
     "execution_count": 12,
     "metadata": {},
     "output_type": "execute_result"
    }
   ],
   "source": [
    "# Execute circuit demo on IBM Qiskit. QCircuit is converted internally into target circuit based on provider value.\n",
    "qc.execute(provider=providers.IBM_PROVIDER, repetitions=1024)"
   ]
  },
  {
   "cell_type": "code",
   "execution_count": 13,
   "id": "ff210fa9",
   "metadata": {},
   "outputs": [
    {
     "data": {
      "text/plain": [
       "{'11': 533, '00': 491}"
      ]
     },
     "execution_count": 13,
     "metadata": {},
     "output_type": "execute_result"
    }
   ],
   "source": [
    "# Execute circuit demo on Amazon Braket. QCircuit is converted internally into target circuit based on provider value.\n",
    "qc.execute(provider=providers.AMAZON_PROVIDER, repetitions=1024)"
   ]
  },
  {
   "cell_type": "code",
   "execution_count": 14,
   "id": "86f68d1d",
   "metadata": {},
   "outputs": [
    {
     "data": {
      "text/plain": [
       "{'GOOGLE': {'00': 515, '11': 509},\n",
       " 'IBM': {'11': 519, '00': 505},\n",
       " 'AMAZON': {'00': 515, '11': 509}}"
      ]
     },
     "execution_count": 14,
     "metadata": {},
     "output_type": "execute_result"
    }
   ],
   "source": [
    "qc.compare_results()"
   ]
  },
  {
   "cell_type": "code",
   "execution_count": null,
   "id": "464e035c",
   "metadata": {},
   "outputs": [],
   "source": []
  }
 ],
 "metadata": {
  "kernelspec": {
   "display_name": "Python 3",
   "language": "python",
   "name": "python3"
  },
  "language_info": {
   "codemirror_mode": {
    "name": "ipython",
    "version": 3
   },
   "file_extension": ".py",
   "mimetype": "text/x-python",
   "name": "python",
   "nbconvert_exporter": "python",
   "pygments_lexer": "ipython3",
   "version": "3.8.10"
  }
 },
 "nbformat": 4,
 "nbformat_minor": 5
}
