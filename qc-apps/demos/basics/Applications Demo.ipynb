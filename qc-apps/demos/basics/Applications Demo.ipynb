{
 "cells": [
  {
   "cell_type": "code",
   "execution_count": 3,
   "id": "91a149f0",
   "metadata": {},
   "outputs": [
    {
     "name": "stdout",
     "output_type": "stream",
     "text": [
      "6\n"
     ]
    }
   ],
   "source": [
    "from quantumcat.utils import providers, constants\n",
    "from quantumcat.applications.generator import RandomNumber\n",
    "\n",
    "random_number = RandomNumber(length=4, output_type=constants.DECIMAL)\\\n",
    "        .execute(provider=providers.GOOGLE_PROVIDER)\n",
    "# OR providers.IBM_PROVIDER / providers.AMAZON_PROVIDER\n",
    "print(random_number)"
   ]
  },
  {
   "cell_type": "code",
   "execution_count": 4,
   "id": "6ceb31a1",
   "metadata": {},
   "outputs": [
    {
     "name": "stdout",
     "output_type": "stream",
     "text": [
      "6b973c74\n"
     ]
    }
   ],
   "source": [
    "from quantumcat.applications.generator import Password\n",
    "\n",
    "password = Password(8).generate()\n",
    "print(password)"
   ]
  },
  {
   "cell_type": "code",
   "execution_count": 5,
   "id": "611a5897",
   "metadata": {},
   "outputs": [
    {
     "name": "stdout",
     "output_type": "stream",
     "text": [
      "55782\n"
     ]
    }
   ],
   "source": [
    "from quantumcat.applications.generator import OTP\n",
    "\n",
    "otp = OTP().generate()\n",
    "print(otp)"
   ]
  },
  {
   "cell_type": "code",
   "execution_count": null,
   "id": "e773ef4f",
   "metadata": {},
   "outputs": [],
   "source": []
  }
 ],
 "metadata": {
  "kernelspec": {
   "display_name": "Python 3",
   "language": "python",
   "name": "python3"
  },
  "language_info": {
   "codemirror_mode": {
    "name": "ipython",
    "version": 3
   },
   "file_extension": ".py",
   "mimetype": "text/x-python",
   "name": "python",
   "nbconvert_exporter": "python",
   "pygments_lexer": "ipython3",
   "version": "3.8.10"
  }
 },
 "nbformat": 4,
 "nbformat_minor": 5
}
